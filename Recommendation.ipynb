{
 "cells": [
  {
   "cell_type": "code",
   "execution_count": 1,
   "id": "519151bf-c212-41ea-a785-1e493a3e4539",
   "metadata": {},
   "outputs": [],
   "source": [
    "import pandas as pd\n",
    "from sklearn.feature_extraction.text import TfidfVectorizer\n",
    "from sklearn.metrics.pairwise import cosine_similarity\n"
   ]
  },
  {
   "cell_type": "code",
   "execution_count": 2,
   "id": "7b73d345-5d08-408f-88c1-46d8c425e44c",
   "metadata": {},
   "outputs": [
    {
     "name": "stdout",
     "output_type": "stream",
     "text": [
      "['.ipynb_checkpoints', 'AD3491-Fundamentals-of-Data-Science-and-Analytics-Lecture-Notes-1.pdf', 'AIDS Repository - NM Project.xlsx', 'Awesome Van Gogh Paintings Hd Download.jfif', 'Canva Setup 1.110.0.exe', 'Computer Networks - CS3591 - Notes 4.pdf', 'Computer Networks - CS3591 - Notes.pdf', 'COMPUTER NETWORKS.CN.pdf', 'CPU-Scheduling-and-Algorithm-.pdf', 'CS3591 - CN.docx', 'CS3591-Computer-Networks-Lecture-Notes-1 (1).pdf', 'CS3591-Computer-Networks-Lecture-Notes-1.pdf', 'CS3591-Computer-Networks-Lecture-Notes-2.pdf', 'Dataset .csv', 'desktop.ini', 'diabetes.csv', 'DOC-20250501-WA0003..pdf', 'Document.odt', 'DS_Record_Final.pdf', 'Fundamentals-of-Data-Science-and-Analytics-Apr-May-2024-Question-Paper-Download.pdf', 'Git-2.49.0-64-bit.exe', 'GitHubDesktopSetup-x64.exe', 'Green Beige  Minimalist Ebook Leadmagnet Workbook.pdf', 'jdk-21_windows-x64_bin.exe', 'MA3391-Probability-and-Statistics-Apr-May-2024-Question-Paper-Download.pdf', 'Machine Learning Internship Task  (1).pdf', 'Machine Learning Internship Task .pdf', 'Microsoft 365 Copilot Installer.exe', 'Miniconda3-latest-Windows-x86_64.exe', 'ML Project.html', 'ML Project_files', 'mongodb-windows-x86_64-8.0.10-signed.msi', 'node-v22.17.0-x64.msi', 'OfficeSetup.exe', 'OS Unit 3.pdf', 'Page_replacement_example.pdf', 'PHASE 5 (1).pdf', 'python-3.14.0a7-amd64.exe', 'Saraswathi Villas _ Opening Ceremoney Invitation_Tamil.pdf', 'Unconfirmed 329726.crdownload', 'WhatsApp Installer.exe', 'zomato.csv', '~$_Powered_Structural_Health_Monitoring_Phase_5 (1).docx']\n"
     ]
    }
   ],
   "source": [
    "import os\n",
    "\n",
    "print(os.listdir(r'C:\\Users\\ADMIN\\Downloads'))"
   ]
  },
  {
   "cell_type": "code",
   "execution_count": 3,
   "id": "733f84b8-72dd-4863-878b-8532b5548aa3",
   "metadata": {},
   "outputs": [
    {
     "name": "stdout",
     "output_type": "stream",
     "text": [
      "   Restaurant ID         Restaurant Name  Country Code              City  \\\n",
      "0        6317637        Le Petit Souffle           162       Makati City   \n",
      "1        6304287        Izakaya Kikufuji           162       Makati City   \n",
      "2        6300002  Heat - Edsa Shangri-La           162  Mandaluyong City   \n",
      "3        6318506                    Ooma           162  Mandaluyong City   \n",
      "4        6314302             Sambo Kojin           162  Mandaluyong City   \n",
      "\n",
      "                                             Address  \\\n",
      "0  Third Floor, Century City Mall, Kalayaan Avenu...   \n",
      "1  Little Tokyo, 2277 Chino Roces Avenue, Legaspi...   \n",
      "2  Edsa Shangri-La, 1 Garden Way, Ortigas, Mandal...   \n",
      "3  Third Floor, Mega Fashion Hall, SM Megamall, O...   \n",
      "4  Third Floor, Mega Atrium, SM Megamall, Ortigas...   \n",
      "\n",
      "                                     Locality  \\\n",
      "0   Century City Mall, Poblacion, Makati City   \n",
      "1  Little Tokyo, Legaspi Village, Makati City   \n",
      "2  Edsa Shangri-La, Ortigas, Mandaluyong City   \n",
      "3      SM Megamall, Ortigas, Mandaluyong City   \n",
      "4      SM Megamall, Ortigas, Mandaluyong City   \n",
      "\n",
      "                                    Locality Verbose   Longitude   Latitude  \\\n",
      "0  Century City Mall, Poblacion, Makati City, Mak...  121.027535  14.565443   \n",
      "1  Little Tokyo, Legaspi Village, Makati City, Ma...  121.014101  14.553708   \n",
      "2  Edsa Shangri-La, Ortigas, Mandaluyong City, Ma...  121.056831  14.581404   \n",
      "3  SM Megamall, Ortigas, Mandaluyong City, Mandal...  121.056475  14.585318   \n",
      "4  SM Megamall, Ortigas, Mandaluyong City, Mandal...  121.057508  14.584450   \n",
      "\n",
      "                           Cuisines  ...          Currency Has Table booking  \\\n",
      "0        French, Japanese, Desserts  ...  Botswana Pula(P)               Yes   \n",
      "1                          Japanese  ...  Botswana Pula(P)               Yes   \n",
      "2  Seafood, Asian, Filipino, Indian  ...  Botswana Pula(P)               Yes   \n",
      "3                   Japanese, Sushi  ...  Botswana Pula(P)                No   \n",
      "4                  Japanese, Korean  ...  Botswana Pula(P)               Yes   \n",
      "\n",
      "  Has Online delivery Is delivering now Switch to order menu Price range  \\\n",
      "0                  No                No                   No           3   \n",
      "1                  No                No                   No           3   \n",
      "2                  No                No                   No           4   \n",
      "3                  No                No                   No           4   \n",
      "4                  No                No                   No           4   \n",
      "\n",
      "   Aggregate rating  Rating color Rating text Votes  \n",
      "0               4.8    Dark Green   Excellent   314  \n",
      "1               4.5    Dark Green   Excellent   591  \n",
      "2               4.4         Green   Very Good   270  \n",
      "3               4.9    Dark Green   Excellent   365  \n",
      "4               4.8    Dark Green   Excellent   229  \n",
      "\n",
      "[5 rows x 21 columns]\n"
     ]
    }
   ],
   "source": [
    "import pandas as pd\n",
    "\n",
    "df = pd.read_csv(r'C:\\Users\\ADMIN\\Downloads\\Dataset .csv')\n",
    "print(df.head())"
   ]
  },
  {
   "cell_type": "code",
   "execution_count": 4,
   "id": "314eb49f-ff24-4ef0-bcb1-cc1468eedcac",
   "metadata": {},
   "outputs": [],
   "source": [
    "# Drop rows with missing 'Cuisines'\n",
    "df_cleaned = df.dropna(subset=['Cuisines']).copy()\n",
    "\n",
    "# Create a new column combining 'Cuisines' and 'Average Cost for two'\n",
    "df_cleaned['combined_features'] = df_cleaned['Cuisines'] + \" \" + df_cleaned['Average Cost for two'].astype(str)\n"
   ]
  },
  {
   "cell_type": "code",
   "execution_count": 5,
   "id": "c2b56aab-781f-4a81-8669-b50d5cd5cb73",
   "metadata": {},
   "outputs": [],
   "source": [
    "# Create a TF-IDF Vectorizer object\n",
    "vectorizer = TfidfVectorizer()\n",
    "\n",
    "# Fit and transform the 'combined_features' column\n",
    "feature_vectors = vectorizer.fit_transform(df_cleaned['combined_features'])\n"
   ]
  },
  {
   "cell_type": "code",
   "execution_count": 6,
   "id": "3778fb8a-0a94-4334-a46d-55a0f9ce592a",
   "metadata": {},
   "outputs": [],
   "source": [
    "from sklearn.preprocessing import LabelEncoder\n",
    "\n",
    "# Create a dictionary to store all encoders\n",
    "label_encoders = {}\n",
    "\n",
    "# List of categorical columns to encode\n",
    "categorical_cols = ['City', 'Has Table booking', 'Has Online delivery']\n",
    "\n",
    "# Loop through and encode each column\n",
    "for col in categorical_cols:\n",
    "    le = LabelEncoder()\n",
    "    df[col] = le.fit_transform(df[col])  # Convert text to numeric\n",
    "    label_encoders[col] = le  # Save encoder for future decoding\n",
    "\n"
   ]
  },
  {
   "cell_type": "code",
   "execution_count": 7,
   "id": "b1d17e6a-d7a3-457e-8e3b-937f31cdbe09",
   "metadata": {},
   "outputs": [],
   "source": [
    "def recommend_restaurants(user_cuisine, user_budget, top_n=5):\n",
    "    # Step 1: Create a dummy user input like \"Japanese 500\"\n",
    "    user_input = user_cuisine + \" \" + str(user_budget)\n",
    "    \n",
    "    # Step 2: Convert user input into a vector\n",
    "    user_vector = vectorizer.transform([user_input])\n",
    "    \n",
    "    # Step 3: Calculate similarity with all restaurants\n",
    "    similarity_scores = cosine_similarity(user_vector, feature_vectors).flatten()\n",
    "    \n",
    "    # Step 4: Get top matching restaurant indices\n",
    "    top_indices = similarity_scores.argsort()[-top_n:][::-1]\n",
    "    \n",
    "    # Step 5: Return recommended restaurants\n",
    "    return df_cleaned.iloc[top_indices][['Restaurant Name', 'Cuisines', 'Average Cost for two', 'Aggregate rating']]\n"
   ]
  },
  {
   "cell_type": "code",
   "execution_count": 8,
   "id": "5fbdb919-8c92-4973-b9a0-a2cf7dbf55bf",
   "metadata": {},
   "outputs": [
    {
     "name": "stdout",
     "output_type": "stream",
     "text": [
      "                 Restaurant Name           Cuisines  Average Cost for two  \\\n",
      "29                      New Koto           Japanese                   200   \n",
      "54                  Sushi Leblon           Japanese                   250   \n",
      "1517                    Daikichi           Japanese                  1000   \n",
      "5417  Manami Japanese Restaurant           Japanese                  1000   \n",
      "6400             Dimsum Vs Sushi  Japanese, Chinese                   800   \n",
      "\n",
      "      Aggregate rating  \n",
      "29                 3.7  \n",
      "54                 4.6  \n",
      "1517               3.6  \n",
      "5417               0.0  \n",
      "6400               3.4  \n"
     ]
    }
   ],
   "source": [
    "# Example: Recommend Japanese restaurants within a budget of ₹500\n",
    "recommendations = recommend_restaurants(\"Japanese\", 500)\n",
    "\n",
    "# Show the result\n",
    "print(recommendations)\n"
   ]
  },
  {
   "cell_type": "code",
   "execution_count": null,
   "id": "9d8020c1-0e11-4ed9-9cc0-e5a88ac5830e",
   "metadata": {},
   "outputs": [],
   "source": []
  }
 ],
 "metadata": {
  "kernelspec": {
   "display_name": "Python 3 (ipykernel)",
   "language": "python",
   "name": "python3"
  },
  "language_info": {
   "codemirror_mode": {
    "name": "ipython",
    "version": 3
   },
   "file_extension": ".py",
   "mimetype": "text/x-python",
   "name": "python",
   "nbconvert_exporter": "python",
   "pygments_lexer": "ipython3",
   "version": "3.13.2"
  }
 },
 "nbformat": 4,
 "nbformat_minor": 5
}
